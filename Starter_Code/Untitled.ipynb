{
 "cells": [
  {
   "cell_type": "code",
   "execution_count": 7,
   "id": "936d27e3-0ae0-4f0b-b8d4-0ca09b3cdce8",
   "metadata": {},
   "outputs": [],
   "source": [
    "\n",
    "class hello:\n",
    "    receiver: int"
   ]
  },
  {
   "cell_type": "code",
   "execution_count": 8,
   "id": "9587c432-e39a-42f2-a3f0-ae9149226c20",
   "metadata": {},
   "outputs": [
    {
     "ename": "NameError",
     "evalue": "name 'receiver' is not defined",
     "output_type": "error",
     "traceback": [
      "\u001b[0;31m---------------------------------------------------------------------------\u001b[0m",
      "\u001b[0;31mNameError\u001b[0m                                 Traceback (most recent call last)",
      "\u001b[0;32m/var/folders/hb/jxl_pgl57jl8c0k452yj_5km0000gn/T/ipykernel_41075/2064889333.py\u001b[0m in \u001b[0;36m<module>\u001b[0;34m\u001b[0m\n\u001b[0;32m----> 1\u001b[0;31m \u001b[0mtype\u001b[0m\u001b[0;34m(\u001b[0m\u001b[0mreceiver\u001b[0m\u001b[0;34m)\u001b[0m\u001b[0;34m\u001b[0m\u001b[0;34m\u001b[0m\u001b[0m\n\u001b[0m",
      "\u001b[0;31mNameError\u001b[0m: name 'receiver' is not defined"
     ]
    }
   ],
   "source": [
    "type(receiver)"
   ]
  },
  {
   "cell_type": "code",
   "execution_count": null,
   "id": "7688894e-b171-4646-8d3e-2254b55d5c73",
   "metadata": {},
   "outputs": [],
   "source": [
    "len(receiver)"
   ]
  },
  {
   "cell_type": "code",
   "execution_count": null,
   "id": "a3ab5134-dd7d-498a-9d17-bd7e60d324ea",
   "metadata": {},
   "outputs": [],
   "source": []
  }
 ],
 "metadata": {
  "kernelspec": {
   "display_name": "Python 3 (ipykernel)",
   "language": "python",
   "name": "python3"
  },
  "language_info": {
   "codemirror_mode": {
    "name": "ipython",
    "version": 3
   },
   "file_extension": ".py",
   "mimetype": "text/x-python",
   "name": "python",
   "nbconvert_exporter": "python",
   "pygments_lexer": "ipython3",
   "version": "3.9.7"
  }
 },
 "nbformat": 4,
 "nbformat_minor": 5
}
